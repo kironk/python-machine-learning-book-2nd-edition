{
 "cells": [
  {
   "cell_type": "code",
   "execution_count": 1,
   "metadata": {},
   "outputs": [],
   "source": [
    "import numpy as np\n",
    "\n",
    "class Perceptron(object):\n",
    "    def __init__(self, eta=0.01, n_iter=50, random_state=1):\n",
    "        self.eta = eta\n",
    "        self.n_iter = n_iter\n",
    "        self.random_state = random_state\n",
    "        \n",
    "    def fit(self, X, y):\n",
    "        rgen = np.random.RandomState(self.random_state)\n",
    "        self.w_ = rgen.normal(loc=0.0, scale=0.01, size=1 + X.shape[1])\n",
    "        self.errors_ = []\n",
    "        \n",
    "        for _ in range(self.n_iter):\n",
    "            errors = 0\n",
    "            for xi, target in zip(X, y):\n",
    "                update = self.eta * (target - self.predict(xi))\n",
    "                self.w_[1:] += update * xi\n",
    "                self.w_[0] += update\n",
    "                errors += int(update != 0.0)\n",
    "            self.errors_.append(errors)\n",
    "        return self\n",
    "    \n",
    "    def net_input(self, X):\n",
    "        return np.dot(X, self.w_[1:] + self.w_[0])\n",
    "    \n",
    "    def predict(self, X):\n",
    "        return np.where(self.net_input(X) > 0.0, 1, -1)"
   ]
  },
  {
   "cell_type": "code",
   "execution_count": 2,
   "metadata": {},
   "outputs": [
    {
     "data": {
      "text/plain": [
       "0.0"
      ]
     },
     "execution_count": 2,
     "metadata": {},
     "output_type": "execute_result"
    }
   ],
   "source": [
    "v1 = np.array([1, 2, 3])\n",
    "v2 = 0.5 * v1\n",
    "np.arccos(v1.dot(v2) / (np.linalg.norm(v1) * np.linalg.norm(v2)))"
   ]
  },
  {
   "cell_type": "code",
   "execution_count": 3,
   "metadata": {},
   "outputs": [
    {
     "data": {
      "text/html": [
       "<div>\n",
       "<style scoped>\n",
       "    .dataframe tbody tr th:only-of-type {\n",
       "        vertical-align: middle;\n",
       "    }\n",
       "\n",
       "    .dataframe tbody tr th {\n",
       "        vertical-align: top;\n",
       "    }\n",
       "\n",
       "    .dataframe thead th {\n",
       "        text-align: right;\n",
       "    }\n",
       "</style>\n",
       "<table border=\"1\" class=\"dataframe\">\n",
       "  <thead>\n",
       "    <tr style=\"text-align: right;\">\n",
       "      <th></th>\n",
       "      <th>0</th>\n",
       "      <th>1</th>\n",
       "      <th>2</th>\n",
       "      <th>3</th>\n",
       "      <th>4</th>\n",
       "    </tr>\n",
       "  </thead>\n",
       "  <tbody>\n",
       "    <tr>\n",
       "      <th>145</th>\n",
       "      <td>6.7</td>\n",
       "      <td>3.0</td>\n",
       "      <td>5.2</td>\n",
       "      <td>2.3</td>\n",
       "      <td>Iris-virginica</td>\n",
       "    </tr>\n",
       "    <tr>\n",
       "      <th>146</th>\n",
       "      <td>6.3</td>\n",
       "      <td>2.5</td>\n",
       "      <td>5.0</td>\n",
       "      <td>1.9</td>\n",
       "      <td>Iris-virginica</td>\n",
       "    </tr>\n",
       "    <tr>\n",
       "      <th>147</th>\n",
       "      <td>6.5</td>\n",
       "      <td>3.0</td>\n",
       "      <td>5.2</td>\n",
       "      <td>2.0</td>\n",
       "      <td>Iris-virginica</td>\n",
       "    </tr>\n",
       "    <tr>\n",
       "      <th>148</th>\n",
       "      <td>6.2</td>\n",
       "      <td>3.4</td>\n",
       "      <td>5.4</td>\n",
       "      <td>2.3</td>\n",
       "      <td>Iris-virginica</td>\n",
       "    </tr>\n",
       "    <tr>\n",
       "      <th>149</th>\n",
       "      <td>5.9</td>\n",
       "      <td>3.0</td>\n",
       "      <td>5.1</td>\n",
       "      <td>1.8</td>\n",
       "      <td>Iris-virginica</td>\n",
       "    </tr>\n",
       "  </tbody>\n",
       "</table>\n",
       "</div>"
      ],
      "text/plain": [
       "       0    1    2    3               4\n",
       "145  6.7  3.0  5.2  2.3  Iris-virginica\n",
       "146  6.3  2.5  5.0  1.9  Iris-virginica\n",
       "147  6.5  3.0  5.2  2.0  Iris-virginica\n",
       "148  6.2  3.4  5.4  2.3  Iris-virginica\n",
       "149  5.9  3.0  5.1  1.8  Iris-virginica"
      ]
     },
     "execution_count": 3,
     "metadata": {},
     "output_type": "execute_result"
    }
   ],
   "source": [
    "import pandas as pd\n",
    "\n",
    "df = pd.read_csv('iris.data', header=None)\n",
    "df.tail()"
   ]
  },
  {
   "cell_type": "code",
   "execution_count": 4,
   "metadata": {},
   "outputs": [
    {
     "data": {
      "image/png": "[encoded data removed]",
      "text/plain": [
       "<matplotlib.figure.Figure at 0x7fe70c530cf8>"
      ]
     },
     "metadata": {},
     "output_type": "display_data"
    }
   ],
   "source": [
    "%matplotlib inline\n",
    "import matplotlib.pyplot as plt\n",
    "import numpy as np\n",
    "\n",
    "y = df.iloc[0:100, 4].values\n",
    "y = np.where(y == 'Iris-setosa', -1, 1)\n",
    "\n",
    "X = df.iloc[0:100, [0, 2]].values\n",
    "\n",
    "plt.scatter(X[:50, 0], X[:50, 1], color='red', marker='o', label='setosa')\n",
    "plt.scatter(X[50:100, 0], X[50:100, 1], color='blue', marker='x', label='versicolor')\n",
    "\n",
    "plt.xlabel('sepal length[cm]')\n",
    "plt.ylabel('petal length[cm]')\n",
    "plt.legend(loc='upper left')\n",
    "\n",
    "plt.show()"
   ]
  },
  {
   "cell_type": "code",
   "execution_count": 5,
   "metadata": {},
   "outputs": [
    {
     "data": {
      "image/png": "[encoded data removed]",
      "text/plain": [
       "<matplotlib.figure.Figure at 0x7fe7317f0a20>"
      ]
     },
     "metadata": {},
     "output_type": "display_data"
    }
   ],
   "source": [
    "ppn = Perceptron(eta=0.1, n_iter=10)\n",
    "\n",
    "ppn.fit(X, y)\n",
    "\n",
    "plt.plot(range(1, len(ppn.errors_) + 1), ppn.errors_, marker='o')\n",
    "plt.xlabel('Epochs')\n",
    "plt.ylabel('number of updates')\n",
    "\n",
    "plt.show()"
   ]
  },
  {
   "cell_type": "code",
   "execution_count": 6,
   "metadata": {},
   "outputs": [],
   "source": [
    "from matplotlib.colors import ListedColormap\n",
    "\n",
    "\n",
    "def plot_decision_regions(X, y, classifier, resolution=0.02):\n",
    "\n",
    "    # setup marker generator and color map\n",
    "    markers = ('s', 'x', 'o', '^', 'v')\n",
    "    colors = ('red', 'blue', 'lightgreen', 'gray', 'cyan')\n",
    "    cmap = ListedColormap(colors[:len(np.unique(y))])\n",
    "\n",
    "    # plot the decision surface\n",
    "    x1_min, x1_max = X[:, 0].min() - 1, X[:, 0].max() + 1\n",
    "    x2_min, x2_max = X[:, 1].min() - 1, X[:, 1].max() + 1\n",
    "    xx1, xx2 = np.meshgrid(np.arange(x1_min, x1_max, resolution),\n",
    "                           np.arange(x2_min, x2_max, resolution))\n",
    "    Z = classifier.predict(np.array([xx1.ravel(), xx2.ravel()]).T)\n",
    "    Z = Z.reshape(xx1.shape)\n",
    "    plt.contourf(xx1, xx2, Z, alpha=0.3, cmap=cmap)\n",
    "    plt.xlim(xx1.min(), xx1.max())\n",
    "    plt.ylim(xx2.min(), xx2.max())\n",
    "\n",
    "    # plot class samples\n",
    "    for idx, cl in enumerate(np.unique(y)):\n",
    "        plt.scatter(x=X[y == cl, 0], \n",
    "                    y=X[y == cl, 1],\n",
    "                    alpha=0.8, \n",
    "                    c=colors[idx],\n",
    "                    marker=markers[idx], \n",
    "                    label=cl, \n",
    "                    edgecolor='black')"
   ]
  },
  {
   "cell_type": "code",
   "execution_count": 7,
   "metadata": {},
   "outputs": [
    {
     "data": {
      "image/png": "[encoded data removed]",
      "text/plain": [
       "<matplotlib.figure.Figure at 0x7fe70c793a58>"
      ]
     },
     "metadata": {},
     "output_type": "display_data"
    }
   ],
   "source": [
    "plot_decision_regions(X, y, classifier=ppn)\n",
    "plt.xlabel('sepal length [cm]')\n",
    "plt.ylabel('petal length [cm]')\n",
    "plt.legend(loc='upper left')\n",
    "\n",
    "\n",
    "# plt.savefig('images/02_08.png', dpi=300)\n",
    "plt.show()"
   ]
  },
  {
   "cell_type": "code",
   "execution_count": 8,
   "metadata": {},
   "outputs": [],
   "source": [
    "class AdalineGD(object):\n",
    "    \n",
    "    def __init__(self, eta=0.01, n_iter=50, random_state=1):\n",
    "        self.eta = eta\n",
    "        self.n_iter = n_iter\n",
    "        self.random_state = random_state\n",
    "    \n",
    "    def fit(self, X, y):\n",
    "        rgen = np.random.RandomState(self.random_state)\n",
    "        self.w_ = rgen.normal(loc=0.0, scale=0.01, size=1 + X.shape[1])\n",
    "        self.cost_ = []\n",
    "        \n",
    "        for i in range(self.n_iter):\n",
    "            net_input = self.net_input(X)\n",
    "            output = self.activation(net_input)\n",
    "            errors = (y - output)\n",
    "            self.w_[1:] += self.eta * X.T.dot(errors)\n",
    "            self.w_[0] += self.eta * errors.sum()\n",
    "            cost = (errors**2).sum() / 2.0\n",
    "            self.cost_.append(cost)\n",
    "        return self\n",
    " \n",
    "    def net_input(self, X):\n",
    "        return np.dot(X, self.w_[1:]) + self.w_[0]\n",
    "    \n",
    "    def activation(self, X):\n",
    "        return X\n",
    "    \n",
    "    def predict(self, X):\n",
    "        return np.where(self.activation(self.net_input(X)) >= 0.0, 1, -1)"
   ]
  },
  {
   "cell_type": "code",
   "execution_count": 9,
   "metadata": {},
   "outputs": [
    {
     "data": {
      "image/png": "[encoded data removed]",
      "text/plain": [
       "<matplotlib.figure.Figure at 0x7fe7084b5390>"
      ]
     },
     "metadata": {},
     "output_type": "display_data"
    }
   ],
   "source": [
    "fig, ax = plt.subplots(nrows=1, ncols=2, figsize=(10,4))\n",
    "\n",
    "ada1 = AdalineGD(n_iter=10, eta=0.01).fit(X, y)\n",
    "ax[0].plot(range(1, len(ada1.cost_) + 1), np.log10(ada1.cost_), marker='o')\n",
    "ax[0].set_xlabel('Epochs')\n",
    "ax[0].set_ylabel('log(Sum-Squared-error)')\n",
    "ax[0].set_title('Adaline - Learning rate 0.01')\n",
    "\n",
    "ada2 = AdalineGD(n_iter=10, eta=0.0001).fit(X, y)\n",
    "ax[1].plot(range(1, len(ada2.cost_) + 1), np.log10(ada2.cost_), marker='o')\n",
    "ax[1].set_xlabel('Epochs')\n",
    "ax[1].set_ylabel('log(Sum-Squared-error)')\n",
    "ax[1].set_title('Adaline - Learning rate 0.0001')\n",
    "\n",
    "plt.show()"
   ]
  },
  {
   "cell_type": "code",
   "execution_count": 10,
   "metadata": {},
   "outputs": [],
   "source": [
    "X_std = np.copy(X)\n",
    "X_std[:, 0] = (X[:, 0] - X[:, 0].mean()) / X[:, 0].std()\n",
    "X_std[:, 1] = (X[:, 1] - X[:, 1].mean()) / X[:, 1].std()"
   ]
  },
  {
   "cell_type": "code",
   "execution_count": 11,
   "metadata": {},
   "outputs": [
    {
     "data": {
      "text/plain": [
       "(array([[5.1, 1.4],\n",
       "        [4.9, 1.4],\n",
       "        [4.7, 1.3],\n",
       "        [4.6, 1.5],\n",
       "        [5. , 1.4],\n",
       "        [5.4, 1.7],\n",
       "        [4.6, 1.4],\n",
       "        [5. , 1.5],\n",
       "        [4.4, 1.4],\n",
       "        [4.9, 1.5],\n",
       "        [5.4, 1.5],\n",
       "        [4.8, 1.6],\n",
       "        [4.8, 1.4],\n",
       "        [4.3, 1.1],\n",
       "        [5.8, 1.2],\n",
       "        [5.7, 1.5],\n",
       "        [5.4, 1.3],\n",
       "        [5.1, 1.4],\n",
       "        [5.7, 1.7],\n",
       "        [5.1, 1.5],\n",
       "        [5.4, 1.7],\n",
       "        [5.1, 1.5],\n",
       "        [4.6, 1. ],\n",
       "        [5.1, 1.7],\n",
       "        [4.8, 1.9],\n",
       "        [5. , 1.6],\n",
       "        [5. , 1.6],\n",
       "        [5.2, 1.5],\n",
       "        [5.2, 1.4],\n",
       "        [4.7, 1.6],\n",
       "        [4.8, 1.6],\n",
       "        [5.4, 1.5],\n",
       "        [5.2, 1.5],\n",
       "        [5.5, 1.4],\n",
       "        [4.9, 1.5],\n",
       "        [5. , 1.2],\n",
       "        [5.5, 1.3],\n",
       "        [4.9, 1.5],\n",
       "        [4.4, 1.3],\n",
       "        [5.1, 1.5],\n",
       "        [5. , 1.3],\n",
       "        [4.5, 1.3],\n",
       "        [4.4, 1.3],\n",
       "        [5. , 1.6],\n",
       "        [5.1, 1.9],\n",
       "        [4.8, 1.4],\n",
       "        [5.1, 1.6],\n",
       "        [4.6, 1.4],\n",
       "        [5.3, 1.5],\n",
       "        [5. , 1.4],\n",
       "        [7. , 4.7],\n",
       "        [6.4, 4.5],\n",
       "        [6.9, 4.9],\n",
       "        [5.5, 4. ],\n",
       "        [6.5, 4.6],\n",
       "        [5.7, 4.5],\n",
       "        [6.3, 4.7],\n",
       "        [4.9, 3.3],\n",
       "        [6.6, 4.6],\n",
       "        [5.2, 3.9],\n",
       "        [5. , 3.5],\n",
       "        [5.9, 4.2],\n",
       "        [6. , 4. ],\n",
       "        [6.1, 4.7],\n",
       "        [5.6, 3.6],\n",
       "        [6.7, 4.4],\n",
       "        [5.6, 4.5],\n",
       "        [5.8, 4.1],\n",
       "        [6.2, 4.5],\n",
       "        [5.6, 3.9],\n",
       "        [5.9, 4.8],\n",
       "        [6.1, 4. ],\n",
       "        [6.3, 4.9],\n",
       "        [6.1, 4.7],\n",
       "        [6.4, 4.3],\n",
       "        [6.6, 4.4],\n",
       "        [6.8, 4.8],\n",
       "        [6.7, 5. ],\n",
       "        [6. , 4.5],\n",
       "        [5.7, 3.5],\n",
       "        [5.5, 3.8],\n",
       "        [5.5, 3.7],\n",
       "        [5.8, 3.9],\n",
       "        [6. , 5.1],\n",
       "        [5.4, 4.5],\n",
       "        [6. , 4.5],\n",
       "        [6.7, 4.7],\n",
       "        [6.3, 4.4],\n",
       "        [5.6, 4.1],\n",
       "        [5.5, 4. ],\n",
       "        [5.5, 4.4],\n",
       "        [6.1, 4.6],\n",
       "        [5.8, 4. ],\n",
       "        [5. , 3.3],\n",
       "        [5.6, 4.2],\n",
       "        [5.7, 4.2],\n",
       "        [5.7, 4.2],\n",
       "        [6.2, 4.3],\n",
       "        [5.1, 3. ],\n",
       "        [5.7, 4.1]]), array([[-0.5810659 , -1.01435952],\n",
       "        [-0.89430898, -1.01435952],\n",
       "        [-1.20755205, -1.08374115],\n",
       "        [-1.36417359, -0.94497788],\n",
       "        [-0.73768744, -1.01435952],\n",
       "        [-0.11120129, -0.80621461],\n",
       "        [-1.36417359, -1.01435952],\n",
       "        [-0.73768744, -0.94497788],\n",
       "        [-1.67741667, -1.01435952],\n",
       "        [-0.89430898, -0.94497788],\n",
       "        [-0.11120129, -0.94497788],\n",
       "        [-1.05093052, -0.87559625],\n",
       "        [-1.05093052, -1.01435952],\n",
       "        [-1.8340382 , -1.22250442],\n",
       "        [ 0.51528486, -1.15312279],\n",
       "        [ 0.35866332, -0.94497788],\n",
       "        [-0.11120129, -1.08374115],\n",
       "        [-0.5810659 , -1.01435952],\n",
       "        [ 0.35866332, -0.80621461],\n",
       "        [-0.5810659 , -0.94497788],\n",
       "        [-0.11120129, -0.80621461],\n",
       "        [-0.5810659 , -0.94497788],\n",
       "        [-1.36417359, -1.29188606],\n",
       "        [-0.5810659 , -0.80621461],\n",
       "        [-1.05093052, -0.66745134],\n",
       "        [-0.73768744, -0.87559625],\n",
       "        [-0.73768744, -0.87559625],\n",
       "        [-0.42444437, -0.94497788],\n",
       "        [-0.42444437, -1.01435952],\n",
       "        [-1.20755205, -0.87559625],\n",
       "        [-1.05093052, -0.87559625],\n",
       "        [-0.11120129, -0.94497788],\n",
       "        [-0.42444437, -0.94497788],\n",
       "        [ 0.04542025, -1.01435952],\n",
       "        [-0.89430898, -0.94497788],\n",
       "        [-0.73768744, -1.15312279],\n",
       "        [ 0.04542025, -1.08374115],\n",
       "        [-0.89430898, -0.94497788],\n",
       "        [-1.67741667, -1.08374115],\n",
       "        [-0.5810659 , -0.94497788],\n",
       "        [-0.73768744, -1.08374115],\n",
       "        [-1.52079513, -1.08374115],\n",
       "        [-1.67741667, -1.08374115],\n",
       "        [-0.73768744, -0.87559625],\n",
       "        [-0.5810659 , -0.66745134],\n",
       "        [-1.05093052, -1.01435952],\n",
       "        [-0.5810659 , -0.87559625],\n",
       "        [-1.36417359, -1.01435952],\n",
       "        [-0.26782283, -0.94497788],\n",
       "        [-0.73768744, -1.01435952],\n",
       "        [ 2.39474331,  1.27523447],\n",
       "        [ 1.45501408,  1.1364712 ],\n",
       "        [ 2.23812177,  1.41399774],\n",
       "        [ 0.04542025,  0.78956302],\n",
       "        [ 1.61163562,  1.20585283],\n",
       "        [ 0.35866332,  1.1364712 ],\n",
       "        [ 1.29839254,  1.27523447],\n",
       "        [-0.89430898,  0.30389157],\n",
       "        [ 1.76825716,  1.20585283],\n",
       "        [-0.42444437,  0.72018138],\n",
       "        [-0.73768744,  0.44265484],\n",
       "        [ 0.6719064 ,  0.92832629],\n",
       "        [ 0.82852793,  0.78956302],\n",
       "        [ 0.98514947,  1.27523447],\n",
       "        [ 0.20204178,  0.51203647],\n",
       "        [ 1.92487869,  1.06708956],\n",
       "        [ 0.20204178,  1.1364712 ],\n",
       "        [ 0.51528486,  0.85894465],\n",
       "        [ 1.14177101,  1.1364712 ],\n",
       "        [ 0.20204178,  0.72018138],\n",
       "        [ 0.6719064 ,  1.3446161 ],\n",
       "        [ 0.98514947,  0.78956302],\n",
       "        [ 1.29839254,  1.41399774],\n",
       "        [ 0.98514947,  1.27523447],\n",
       "        [ 1.45501408,  0.99770792],\n",
       "        [ 1.76825716,  1.06708956],\n",
       "        [ 2.08150023,  1.3446161 ],\n",
       "        [ 1.92487869,  1.48337938],\n",
       "        [ 0.82852793,  1.1364712 ],\n",
       "        [ 0.35866332,  0.44265484],\n",
       "        [ 0.04542025,  0.65079974],\n",
       "        [ 0.04542025,  0.58141811],\n",
       "        [ 0.51528486,  0.72018138],\n",
       "        [ 0.82852793,  1.55276101],\n",
       "        [-0.11120129,  1.1364712 ],\n",
       "        [ 0.82852793,  1.1364712 ],\n",
       "        [ 1.92487869,  1.27523447],\n",
       "        [ 1.29839254,  1.06708956],\n",
       "        [ 0.20204178,  0.85894465],\n",
       "        [ 0.04542025,  0.78956302],\n",
       "        [ 0.04542025,  1.06708956],\n",
       "        [ 0.98514947,  1.20585283],\n",
       "        [ 0.51528486,  0.78956302],\n",
       "        [-0.73768744,  0.30389157],\n",
       "        [ 0.20204178,  0.92832629],\n",
       "        [ 0.35866332,  0.92832629],\n",
       "        [ 0.35866332,  0.92832629],\n",
       "        [ 1.14177101,  0.99770792],\n",
       "        [-0.5810659 ,  0.09574666],\n",
       "        [ 0.35866332,  0.85894465]]))"
      ]
     },
     "execution_count": 11,
     "metadata": {},
     "output_type": "execute_result"
    }
   ],
   "source": [
    "X, X_std"
   ]
  },
  {
   "cell_type": "code",
   "execution_count": 12,
   "metadata": {},
   "outputs": [
    {
     "data": {
      "image/png": "[encoded data removed]",
      "text/plain": [
       "<matplotlib.figure.Figure at 0x7fe7084b5048>"
      ]
     },
     "metadata": {},
     "output_type": "display_data"
    },
    {
     "data": {
      "image/png": "[encoded data removed]",
      "text/plain": [
       "<matplotlib.figure.Figure at 0x7fe70845bd68>"
      ]
     },
     "metadata": {},
     "output_type": "display_data"
    }
   ],
   "source": [
    "ada = AdalineGD(n_iter=15, eta=0.01)\n",
    "ada.fit(X_std, y)\n",
    "\n",
    "plot_decision_regions(X_std, y, classifier=ada)\n",
    "plt.title('Adaline - Gradient Descent')\n",
    "plt.xlabel('sepal length [standardized]')\n",
    "plt.ylabel('petal length [standardized]')\n",
    "plt.legend(loc='upper left')\n",
    "plt.tight_layout()\n",
    "# plt.savefig('images/02_14_1.png', dpi=300)\n",
    "plt.show()\n",
    "\n",
    "plt.plot(range(1, len(ada.cost_) + 1), ada.cost_, marker='o')\n",
    "plt.xlabel('Epochs')\n",
    "plt.ylabel('Sum-squared-error')\n",
    "\n",
    "plt.tight_layout()\n",
    "# plt.savefig('images/02_14_2.png', dpi=300)\n",
    "plt.show()"
   ]
  },
  {
   "cell_type": "code",
   "execution_count": 14,
   "metadata": {},
   "outputs": [],
   "source": [
    "class AdalineSGD(object):\n",
    "    def __init__(self, eta=0.01, n_iter=10, shuffle=True, random_state=True):\n",
    "        self.eta = eta\n",
    "        self.n_iter = n_iter\n",
    "        self.shuffle = shuffle\n",
    "        self.random_state = random_state\n",
    "        self.w_initialized = False\n",
    "        \n",
    "    def fit(self, X, y):\n",
    "        self._initialize_weights(X.shape[1])\n",
    "        self.cost_ = []\n",
    "        for i in range(self.n_iter):\n",
    "            if self.shuffle:\n",
    "                X, y = self._shuffle(X, y)\n",
    "            cost = []\n",
    "            for xi, target in zip(X, y):\n",
    "                cost.append(self._update_weights(xi, target))\n",
    "            avg_cost = sum(cost) / len(y)\n",
    "            self.cost_.append(avg_cost)\n",
    "        return self\n",
    "    \n",
    "    def partial_fit(self, X, y):\n",
    "        if not self.w_initialized:\n",
    "            self._initialize_weights(X.shape[1])\n",
    "        if y.ravel().shape[0] > 1:\n",
    "            for xi, target in zip(X, y):\n",
    "                self._update_weights(xi, target)\n",
    "        else:\n",
    "            self._update_weights(X, y)\n",
    "        return self\n",
    "    \n",
    "    def _shuffle(self, X, y):\n",
    "        r = self.rgen.permutation(len(y))\n",
    "        return X[r], y[r]\n",
    "        \n",
    "    def _initialize_weights(self, m):\n",
    "        self.rgen = np.random.RandomState(self.random_state)\n",
    "        self.w_ = self.rgen.normal(loc=0.0, scale=0.01, size =1 + m)\n",
    "        self.w_initialized = True\n",
    "        \n",
    "    def _update_weights(self, xi, target):\n",
    "        output = self.activation(self.net_input(xi))\n",
    "        error = (target - output)\n",
    "        self.w_[1:] += self.eta * xi.dot(error)\n",
    "        self.w_[0] += self.eta * error\n",
    "        cost = 0.5 * (error**2)\n",
    "        return cost\n",
    "    \n",
    "    def net_input(self, X):\n",
    "        return np.dot(X, self.w_[1:]) + self.w_[0]\n",
    "    \n",
    "    def activation(self, X):\n",
    "        return X\n",
    "        \n",
    "    def predict(self, X):\n",
    "        return np.where(self.activation(self.net_input(X)) >= 0.0, 1, -1)"
   ]
  },
  {
   "cell_type": "code",
   "execution_count": 15,
   "metadata": {},
   "outputs": [
    {
     "data": {
      "image/png": "[encoded data removed]",
      "text/plain": [
       "<matplotlib.figure.Figure at 0x7fe7317f1470>"
      ]
     },
     "metadata": {},
     "output_type": "display_data"
    },
    {
     "data": {
      "image/png": "[encoded data removed]",
      "text/plain": [
       "<matplotlib.figure.Figure at 0x7fe70849d748>"
      ]
     },
     "metadata": {},
     "output_type": "display_data"
    }
   ],
   "source": [
    "plt.style.use('seaborn-pastel')\n",
    "ada = AdalineSGD(n_iter=15, eta=0.01, random_state=1)\n",
    "ada.fit(X_std, y)\n",
    "\n",
    "plot_decision_regions(X_std, y, classifier=ada)\n",
    "plt.title('Adaline SGD')\n",
    "plt.xlabel('sepal length (std)')\n",
    "plt.ylabel('petal length (std)')\n",
    "plt.legend(loc='upper left')\n",
    "\n",
    "plt.tight_layout()\n",
    "plt.show()\n",
    "\n",
    "plt.plot(range(1, len(ada.cost_) + 1), ada.cost_, marker='o')\n",
    "plt.xlabel('Epochs')\n",
    "plt.ylabel('Average cost')\n",
    "plt.tight_layout()\n",
    "plt.show()"
   ]
  },
  {
   "cell_type": "code",
   "execution_count": 16,
   "metadata": {},
   "outputs": [
    {
     "data": {
      "text/plain": [
       "<__main__.AdalineSGD at 0x7fe7317e16a0>"
      ]
     },
     "execution_count": 16,
     "metadata": {},
     "output_type": "execute_result"
    }
   ],
   "source": [
    "ada.partial_fit(X_std[0, :], y[0])"
   ]
  },
  {
   "cell_type": "code",
   "execution_count": null,
   "metadata": {},
   "outputs": [],
   "source": []
  },
  {
   "cell_type": "code",
   "execution_count": null,
   "metadata": {},
   "outputs": [],
   "source": []
  }
 ],
 "metadata": {
  "kernelspec": {
   "display_name": "Python 3",
   "language": "python",
   "name": "python3"
  },
  "language_info": {
   "codemirror_mode": {
    "name": "ipython",
    "version": 3
   },
   "file_extension": ".py",
   "mimetype": "text/x-python",
   "name": "python",
   "nbconvert_exporter": "python",
   "pygments_lexer": "ipython3",
   "version": "3.6.3"
  }
 },
 "nbformat": 4,
 "nbformat_minor": 2
}
